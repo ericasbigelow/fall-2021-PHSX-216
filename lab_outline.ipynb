{
 "cells": [
  {
   "cell_type": "code",
   "execution_count": 11,
   "id": "35b5bc1e",
   "metadata": {},
   "outputs": [
    {
     "name": "stdout",
     "output_type": "stream",
     "text": [
      "0.05\n",
      "120000000000.0\n",
      "1.4142135623730951\n"
     ]
    }
   ],
   "source": [
    "import numpy as np\n",
    "\n",
    "\n",
    "#importing numpy to use its modules\n",
    "\n",
    "#defining functions for rule 3 --------------------------------------------------------------------------------\n",
    "def rule3(da, db):\n",
    "    dQ = np.sqrt(da**2 + db**2)\n",
    "    return dQ\n",
    "#defining a function for rule 4--------------------------------------------------------------------------------------\n",
    "def rule4(m, errA, a, n, errB, b):\n",
    "    Q = np.sqrt((((m*(errA/ a ))**2) + ((n*(errB/ b))**2)))\n",
    "    return Q \n",
    "    \n",
    "\n",
    "\n",
    "#defining function for rule 2 ----------------------------------------------------------------------------------\n",
    "def rule2(c, m, A, dA):\n",
    "    Q = abs(c*m*(A)**(m-1))*dA\n",
    "    return Q\n",
    "\n",
    "\n",
    "#defining function for rule 1----------------------------------------------------------------------------------\n",
    "def rule1(const, err_a):\n",
    "    Q = (const* err_a)\n",
    "    return Q\n",
    "\n",
    "\n",
    "#testing rule 1     \n",
    "const = 1 \n",
    "err_a = .05\n",
    "prod = rule1(const, err_a)\n",
    "print(prod)\n",
    "\n",
    "#testing rule 2 \n",
    "c = 2\n",
    "m = 12\n",
    "A = 10\n",
    "dA = .05\n",
    "prod_2 = rule2(c, m, A, dA)\n",
    "print(prod_2)\n",
    "\n",
    "#testing rule 4\n",
    "Q = \n",
    "m = 1\n",
    "errA = 1\n",
    "a = 1\n",
    "n = 1\n",
    "errB = 1\n",
    "b = 1\n",
    "prod_4 = rule4(m, errA, a, n, errB, b)\n",
    "print(prod_4)\n",
    "\n",
    "\n"
   ]
  },
  {
   "cell_type": "code",
   "execution_count": 9,
   "id": "ceaf104d",
   "metadata": {},
   "outputs": [
    {
     "name": "stdout",
     "output_type": "stream",
     "text": [
      "Error calculation is:   0.42696764617852134\n"
     ]
    }
   ],
   "source": [
    "#calculating my rule 4 for assignment \n",
    "import numpy as np\n",
    "\n",
    "def rule4(m, errA, a, n, errB, b, o, errC, c, p, errD, d):\n",
    "    num = np.sqrt(((m*(errA/ a ))**2) + ((n*(errB/ b))**2) +((o*(errC/ c))**2)+((p*(errD/ d))**2))\n",
    "    return num\n",
    "\n",
    "m = 1\n",
    "errA = 0.01\n",
    "a = 257.9\n",
    "n = -1\n",
    "errB = 0.01 \n",
    "b = 65.9 \n",
    "o = 1/2\n",
    "errC = 0.0005\n",
    "c = 0.235\n",
    "p = 1/2\n",
    "errD = .152\n",
    "d = .178\n",
    "\n",
    "error = rule4(m, errA, a, n, errB, b, o, errC, c, p, errD, d)\n",
    "\n",
    "print('Error calculation is:  ', error)"
   ]
  },
  {
   "cell_type": "code",
   "execution_count": 16,
   "id": "c78b832d",
   "metadata": {},
   "outputs": [
    {
     "name": "stdout",
     "output_type": "stream",
     "text": [
      "Average is:  1.1166666666666667 Standard Deviation is: 0.17950549357115014\n"
     ]
    }
   ],
   "source": [
    "import numpy as np \n",
    "\n",
    "x = np.array([1.1, 1.3, 1.4, 0.9, 0.95, 1.05])\n",
    "avg = np.average(x)\n",
    "stddev = np.std(x)\n",
    "print('Average is: ' , avg, 'Standard Deviation is:', stddev)\n",
    "\n"
   ]
  },
  {
   "cell_type": "markdown",
   "id": "c2508aa3",
   "metadata": {},
   "source": [
    "$\\delta Q = \\sqrt{(\\delta a)^2 + (\\delta b)^2}$"
   ]
  },
  {
   "cell_type": "markdown",
   "id": "e2e36d5e",
   "metadata": {},
   "source": [
    "$\\delta Q = \\sqrt{(m(\\delta A)^2/A) + (n(\\delta B)^2/B) + (o(\\delta C)^2/C) + (p(\\delta D)^2/D)} $"
   ]
  },
  {
   "cell_type": "code",
   "execution_count": null,
   "id": "518119f5",
   "metadata": {},
   "outputs": [],
   "source": []
  }
 ],
 "metadata": {
  "kernelspec": {
   "display_name": "Python 3",
   "language": "python",
   "name": "python3"
  },
  "language_info": {
   "codemirror_mode": {
    "name": "ipython",
    "version": 3
   },
   "file_extension": ".py",
   "mimetype": "text/x-python",
   "name": "python",
   "nbconvert_exporter": "python",
   "pygments_lexer": "ipython3",
   "version": "3.8.8"
  }
 },
 "nbformat": 4,
 "nbformat_minor": 5
}
